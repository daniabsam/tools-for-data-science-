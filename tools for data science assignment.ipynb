{
 "cells": [
  {
   "cell_type": "code",
   "execution_count": 1,
   "id": "26245988",
   "metadata": {},
   "outputs": [],
   "source": [
    "# My data science notebook"
   ]
  },
  {
   "cell_type": "code",
   "execution_count": 2,
   "id": "192596e5",
   "metadata": {},
   "outputs": [],
   "source": [
    "## Welcome to this notebook on data science! In this notebook, we'll explore various aspects of data science and its related languages and libraries."
   ]
  },
  {
   "cell_type": "code",
   "execution_count": 3,
   "id": "8176832d",
   "metadata": {},
   "outputs": [],
   "source": [
    "## python, R, Julia, sql"
   ]
  },
  {
   "cell_type": "code",
   "execution_count": 4,
   "id": "2412d1b0",
   "metadata": {},
   "outputs": [],
   "source": [
    "## NumPy,pandas, Matplotlib, Seaborn,Scikit-Learn, TensorFlow, PyTorch"
   ]
  },
  {
   "cell_type": "code",
   "execution_count": 5,
   "id": "c69d3f9a",
   "metadata": {},
   "outputs": [],
   "source": [
    "# Tool                | Description                             |\n",
    "\n",
    " #Python              | A versatile programming language often used in data science. |\n",
    " #Jupyter Notebook    | An interactive computing environment for data analysis and visualization. |\n",
    " #Pandas              | A powerful library for data manipulation and analysis. |\n",
    " #NumPy               | A fundamental package for scientific computing with Python. |\n",
    " #Scikit-Learn        | A machine learning library for various data science tasks. |\n",
    "#Matplotlib          | A popular data visualization library. |\n",
    " #TensorFlow          | An open-source machine learning framework. |\n",
    " #PyTorch             | An open-source deep learning framework. |\n",
    " #R                   | A programming language for statistical analysis and data visualization. |\n",
    " #Tableau            | A data visualization tool for creating interactive and shareable dashboards. |"
   ]
  },
  {
   "cell_type": "code",
   "execution_count": 6,
   "id": "0edfa25c",
   "metadata": {},
   "outputs": [],
   "source": [
    "## In this section, we'll explore various arithmetic expression examples to demonstrate basic mathematical operations such as addition, subtraction, multiplication, and division in Python"
   ]
  },
  {
   "cell_type": "code",
   "execution_count": 7,
   "id": "07a1cf72",
   "metadata": {},
   "outputs": [
    {
     "name": "stdout",
     "output_type": "stream",
     "text": [
      "Multiplication Result: 15\n",
      "Addition Result: 8\n"
     ]
    }
   ],
   "source": [
    "# Multiplication example\n",
    "result1 = 5 * 3\n",
    "print(\"Multiplication Result:\", result1)\n",
    "\n",
    "# Addition example\n",
    "result2 = 5 + 3\n",
    "print(\"Addition Result:\", result2)"
   ]
  },
  {
   "cell_type": "code",
   "execution_count": 8,
   "id": "11f53df3",
   "metadata": {},
   "outputs": [
    {
     "name": "stdout",
     "output_type": "stream",
     "text": [
      "120 minutes is equal to 2.0 hours.\n"
     ]
    }
   ],
   "source": [
    "# Convert minutes to hours\n",
    "minutes = 120\n",
    "hours = minutes / 60\n",
    "print(f\"{minutes} minutes is equal to {hours} hours.\")"
   ]
  },
  {
   "cell_type": "code",
   "execution_count": 9,
   "id": "ec9c0776",
   "metadata": {},
   "outputs": [],
   "source": [
    "## Objectives\n",
    "\n",
    "#1. Introduce commonly used data science tools.\n",
    "#2. Demonstrate arithmetic expression examples in Python.\n",
    "#3. Perform basic mathematical operations (multiplication and addition).\n",
    "#4. Convert minutes to hours.\n",
    "#5. Share the notebook on GitHub.\n",
    "#6. Capture a screenshot of the first page of the notebook."
   ]
  },
  {
   "cell_type": "code",
   "execution_count": null,
   "id": "8e0f2df8",
   "metadata": {},
   "outputs": [],
   "source": [
    "# Author: [Dania B Sam]"
   ]
  }
 ],
 "metadata": {
  "kernelspec": {
   "display_name": "Python 3 (ipykernel)",
   "language": "python",
   "name": "python3"
  },
  "language_info": {
   "codemirror_mode": {
    "name": "ipython",
    "version": 3
   },
   "file_extension": ".py",
   "mimetype": "text/x-python",
   "name": "python",
   "nbconvert_exporter": "python",
   "pygments_lexer": "ipython3",
   "version": "3.9.12"
  }
 },
 "nbformat": 4,
 "nbformat_minor": 5
}
